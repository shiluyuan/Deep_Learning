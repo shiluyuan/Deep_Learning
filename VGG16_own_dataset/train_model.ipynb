{
 "cells": [
  {
   "cell_type": "code",
   "execution_count": 1,
   "metadata": {},
   "outputs": [
    {
     "name": "stdout",
     "output_type": "stream",
     "text": [
      "curses is not supported on this machine (please install/reinstall curses for an optimal experience)\n",
      "train_x: (10332, 224, 224, 3)\n",
      "train_y: (10332, 7)\n"
     ]
    }
   ],
   "source": [
    "import tflearn\n",
    "from tflearn.data_preprocessing import ImagePreprocessing\n",
    "import os\n",
    "import time\n",
    "import numpy as np\n",
    "from vgg16 import vgg16\n",
    "from load_image import load_image\n",
    "from pred_image import pred_one_hot\n",
    "from get_accuarcy import accuarcy\n",
    "\n",
    "# load the data\n",
    "train_files_txt = \"train_fvgg_emo.txt\"\n",
    "test_files_txt = \"test_fvgg_emo.txt\"\n",
    "\n",
    "train= load_image(train_files_txt)\n",
    "train_x = train.x_matrix\n",
    "train_y = train.y_one_hot\n",
    "\n",
    "test = load_image(test_files_txt)\n",
    "test_x = test.x_matrix\n",
    "test_y = test.y_one_hot\n",
    "\n",
    "print(\"train_x:\",train_x.shape)\n",
    "print(\"train_y:\",train_y.shape)"
   ]
  },
  {
   "cell_type": "code",
   "execution_count": 2,
   "metadata": {},
   "outputs": [
    {
     "name": "stdout",
     "output_type": "stream",
     "text": [
      "INFO:tensorflow:Restoring parameters from E:\\Python_Project\\vgg16_train_facial_expression\\vgg16.tflearn\n"
     ]
    }
   ],
   "source": [
    "# import vgg16\n",
    "num_classes = 7 # num of your dataset\n",
    "# VGG preprocessing\n",
    "img_prep = ImagePreprocessing()\n",
    "img_prep.add_featurewise_zero_center(mean=[123.68, 116.779, 103.939],\n",
    "                                     per_channel=True)\n",
    "# VGG Network\n",
    "x = tflearn.input_data(shape=[None, 224, 224, 3], name='input',\n",
    "                       data_preprocessing=img_prep)\n",
    "softmax = vgg16(x, num_classes)\n",
    "regression = tflearn.regression(softmax, optimizer='adam',\n",
    "                                loss='categorical_crossentropy',\n",
    "                                learning_rate=0.0001, restore=False)\n",
    "model = tflearn.DNN(regression)\n",
    "\n",
    "model.load(\"vgg16.tflearn\", weights_only=True)"
   ]
  },
  {
   "cell_type": "code",
   "execution_count": 3,
   "metadata": {},
   "outputs": [
    {
     "name": "stdout",
     "output_type": "stream",
     "text": [
      "Training Step: 5820  | total loss: \u001b[1m\u001b[32m0.35610\u001b[0m\u001b[0m | time: 75.178s\n",
      "| Adam | epoch: 020 | loss: 0.35610 - acc: 0.8864 -- iter: 9298/9298\n",
      "total time is: 1456.525918006897\n"
     ]
    }
   ],
   "source": [
    "# Start finetuning\n",
    "time_0 = time.time()\n",
    "model.fit(train_x, train_y, n_epoch=20, validation_set=0.1, shuffle=False,\n",
    "          show_metric=True, batch_size=32, snapshot_epoch=False,\n",
    "          snapshot_step=200, run_id='vgg-finetuning')\n",
    "print(\"total time is:\", time.time() - time_0)"
   ]
  },
  {
   "cell_type": "code",
   "execution_count": 4,
   "metadata": {},
   "outputs": [
    {
     "name": "stdout",
     "output_type": "stream",
     "text": [
      "test accuarcy: 0.5716546112115732\n",
      "INFO:tensorflow:E:\\Python_Project\\vgg16_train_facial_expression\\model.tflearn is not in all_model_checkpoint_paths. Manually adding it.\n"
     ]
    }
   ],
   "source": [
    "## check predict accuarcy\n",
    "pred_test_y_one_hot = pred_one_hot(model, test_x , 50)\n",
    "acc = accuarcy(pred_test_y_one_hot, test_y)\n",
    "print(\"test accuarcy:\",acc.acc)\n",
    "\n",
    "# at last we save the model\n",
    "model.save('model.tflearn')"
   ]
  }
 ],
 "metadata": {
  "kernelspec": {
   "display_name": "Python 3",
   "language": "python",
   "name": "python3"
  },
  "language_info": {
   "codemirror_mode": {
    "name": "ipython",
    "version": 3
   },
   "file_extension": ".py",
   "mimetype": "text/x-python",
   "name": "python",
   "nbconvert_exporter": "python",
   "pygments_lexer": "ipython3",
   "version": "3.5.4"
  }
 },
 "nbformat": 4,
 "nbformat_minor": 2
}
